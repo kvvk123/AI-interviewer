{
 "cells": [
  {
   "cell_type": "code",
   "execution_count": 7,
   "metadata": {},
   "outputs": [],
   "source": [
    "Question1='java,algorithm,problem solving'\n",
    "Question2='python,algorithm,analytics'\n",
    "Question3='python,machine learning,data visualization'\n",
    "Question4='theory,data structure,graph'\n",
    "Question5='maths,python,functions'\n",
    "\n"
   ]
  },
  {
   "cell_type": "code",
   "execution_count": 8,
   "metadata": {},
   "outputs": [],
   "source": [
    "ArrayOfQuestionsCorrect=[1,0,1,0,1]"
   ]
  },
  {
   "cell_type": "code",
   "execution_count": 9,
   "metadata": {},
   "outputs": [],
   "source": [
    "listofskillsetonquestions=[Question1,Question2,Question3,Question4,Question5]"
   ]
  },
  {
   "cell_type": "code",
   "execution_count": 10,
   "metadata": {},
   "outputs": [
    {
     "data": {
      "text/plain": [
       "['java,algorithm,problem solving',\n",
       " 'python,algorithm,analytics',\n",
       " 'python,machine learning,data visualization',\n",
       " 'theory,data structure,graph',\n",
       " 'maths,python,functions']"
      ]
     },
     "execution_count": 10,
     "metadata": {},
     "output_type": "execute_result"
    }
   ],
   "source": [
    "listofskillsetonquestions"
   ]
  },
  {
   "cell_type": "code",
   "execution_count": 6,
   "metadata": {},
   "outputs": [],
   "source": [
    "dictionaryOfSkillsetAnswering={}"
   ]
  },
  {
   "cell_type": "code",
   "execution_count": 15,
   "metadata": {},
   "outputs": [
    {
     "name": "stdout",
     "output_type": "stream",
     "text": [
      "{'java': 1, 'algorithm': 1, 'problem solving': 1, 'python': 2, 'machine learning': 1, 'data visualization': 1, 'maths': 1, 'functions': 1}\n"
     ]
    }
   ],
   "source": [
    "for index in range(len(listofskillsetonquestions)):\n",
    "    if ArrayOfQuestionsCorrect[index]==1:\n",
    "        Splittingskill=listofskillsetonquestions[index].split(\",\")\n",
    "        for word in Splittingskill:\n",
    "            if word in dictionaryOfSkillsetAnswering:\n",
    "                dictionaryOfSkillsetAnswering[word] += 1\n",
    "            else:\n",
    "                dictionaryOfSkillsetAnswering[word] = 1\n",
    "\n",
    "print(dictionaryOfSkillsetAnswering)\n",
    "    \n",
    "    "
   ]
  },
  {
   "cell_type": "code",
   "execution_count": 16,
   "metadata": {},
   "outputs": [
    {
     "data": {
      "text/plain": [
       "['algorithm',\n",
       " 'data visualization',\n",
       " 'functions',\n",
       " 'java',\n",
       " 'machine learning',\n",
       " 'maths',\n",
       " 'problem solving',\n",
       " 'python']"
      ]
     },
     "execution_count": 16,
     "metadata": {},
     "output_type": "execute_result"
    }
   ],
   "source": [
    "sorted(dictionaryOfSkillsetAnswering)"
   ]
  },
  {
   "cell_type": "code",
   "execution_count": 19,
   "metadata": {},
   "outputs": [],
   "source": [
    "a = sorted(dictionaryOfSkillsetAnswering.items(), key=lambda x: x[1],reverse=True)  "
   ]
  },
  {
   "cell_type": "code",
   "execution_count": 20,
   "metadata": {},
   "outputs": [
    {
     "data": {
      "text/plain": [
       "[('python', 2),\n",
       " ('java', 1),\n",
       " ('algorithm', 1),\n",
       " ('problem solving', 1),\n",
       " ('machine learning', 1),\n",
       " ('data visualization', 1),\n",
       " ('maths', 1),\n",
       " ('functions', 1)]"
      ]
     },
     "execution_count": 20,
     "metadata": {},
     "output_type": "execute_result"
    }
   ],
   "source": [
    "a"
   ]
  },
  {
   "cell_type": "code",
   "execution_count": null,
   "metadata": {},
   "outputs": [],
   "source": []
  }
 ],
 "metadata": {
  "kernelspec": {
   "display_name": "Python 3",
   "language": "python",
   "name": "python3"
  },
  "language_info": {
   "codemirror_mode": {
    "name": "ipython",
    "version": 3
   },
   "file_extension": ".py",
   "mimetype": "text/x-python",
   "name": "python",
   "nbconvert_exporter": "python",
   "pygments_lexer": "ipython3",
   "version": "3.6.10"
  }
 },
 "nbformat": 4,
 "nbformat_minor": 2
}
