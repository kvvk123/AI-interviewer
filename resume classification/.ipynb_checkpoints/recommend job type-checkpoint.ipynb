{
 "cells": [
  {
   "cell_type": "code",
   "execution_count": 2,
   "metadata": {},
   "outputs": [
    {
     "name": "stdout",
     "output_type": "stream",
     "text": [
      "Train the model\n",
      "WARNING:tensorflow:From C:\\Users\\ningesh\\.conda\\envs\\project\\lib\\site-packages\\keras\\backend\\tensorflow_backend.py:422: The name tf.global_variables is deprecated. Please use tf.compat.v1.global_variables instead.\n",
      "\n",
      "{'Job': 'Cloud Architect'}\n"
     ]
    }
   ],
   "source": [
    "import os\n",
    "from flask import Flask, flash, redirect, render_template, request, session, abort\n",
    "from models.keras_first_go import KerasFirstGoModel\n",
    "from clear_bash import clear_bash\n",
    "\n",
    "app = Flask(__name__)\n",
    "cleaner=clear_bash()\n",
    "\n",
    "def train_model():\n",
    "    global first_go_model\n",
    "\n",
    "    print(\"Train the model\")\n",
    "    first_go_model = KerasFirstGoModel()\n",
    "    \n",
    "train_model()\n",
    "processed_text = first_go_model.prediction(\"mathematics algorithm data science\")\n",
    "result = {'Job': processed_text}\n",
    "\n",
    "print(result)"
   ]
  },
  {
   "cell_type": "code",
   "execution_count": null,
   "metadata": {},
   "outputs": [],
   "source": [
    "#Resume miner"
   ]
  },
  {
   "cell_type": "code",
   "execution_count": 12,
   "metadata": {},
   "outputs": [
    {
     "name": "stdout",
     "output_type": "stream",
     "text": [
      "Requirement already satisfied: en_core_web_sm==2.3.1 from https://github.com/explosion/spacy-models/releases/download/en_core_web_sm-2.3.1/en_core_web_sm-2.3.1.tar.gz#egg=en_core_web_sm==2.3.1 in c:\\users\\ningesh\\.conda\\envs\\project\\lib\\site-packages (2.3.1)\n",
      "Requirement already satisfied: spacy<2.4.0,>=2.3.0 in c:\\users\\ningesh\\.conda\\envs\\project\\lib\\site-packages (from en_core_web_sm==2.3.1) (2.3.2)\n",
      "Requirement already satisfied: catalogue<1.1.0,>=0.0.7 in c:\\users\\ningesh\\.conda\\envs\\project\\lib\\site-packages (from spacy<2.4.0,>=2.3.0->en_core_web_sm==2.3.1) (1.0.0)\n",
      "Requirement already satisfied: cymem<2.1.0,>=2.0.2 in c:\\users\\ningesh\\.conda\\envs\\project\\lib\\site-packages (from spacy<2.4.0,>=2.3.0->en_core_web_sm==2.3.1) (2.0.3)\n",
      "Requirement already satisfied: srsly<1.1.0,>=1.0.2 in c:\\users\\ningesh\\.conda\\envs\\project\\lib\\site-packages (from spacy<2.4.0,>=2.3.0->en_core_web_sm==2.3.1) (1.0.2)\n",
      "Requirement already satisfied: blis<0.5.0,>=0.4.0 in c:\\users\\ningesh\\.conda\\envs\\project\\lib\\site-packages (from spacy<2.4.0,>=2.3.0->en_core_web_sm==2.3.1) (0.4.1)\n",
      "Requirement already satisfied: wasabi<1.1.0,>=0.4.0 in c:\\users\\ningesh\\.conda\\envs\\project\\lib\\site-packages (from spacy<2.4.0,>=2.3.0->en_core_web_sm==2.3.1) (0.7.1)\n",
      "Requirement already satisfied: thinc==7.4.1 in c:\\users\\ningesh\\.conda\\envs\\project\\lib\\site-packages (from spacy<2.4.0,>=2.3.0->en_core_web_sm==2.3.1) (7.4.1)\n",
      "Requirement already satisfied: requests<3.0.0,>=2.13.0 in c:\\users\\ningesh\\.conda\\envs\\project\\lib\\site-packages (from spacy<2.4.0,>=2.3.0->en_core_web_sm==2.3.1) (2.24.0)\n",
      "Requirement already satisfied: murmurhash<1.1.0,>=0.28.0 in c:\\users\\ningesh\\.conda\\envs\\project\\lib\\site-packages (from spacy<2.4.0,>=2.3.0->en_core_web_sm==2.3.1) (1.0.2)\n",
      "Requirement already satisfied: tqdm<5.0.0,>=4.38.0 in c:\\users\\ningesh\\.conda\\envs\\project\\lib\\site-packages (from spacy<2.4.0,>=2.3.0->en_core_web_sm==2.3.1) (4.48.0)\n",
      "Requirement already satisfied: preshed<3.1.0,>=3.0.2 in c:\\users\\ningesh\\.conda\\envs\\project\\lib\\site-packages (from spacy<2.4.0,>=2.3.0->en_core_web_sm==2.3.1) (3.0.2)\n",
      "Requirement already satisfied: plac<1.2.0,>=0.9.6 in c:\\users\\ningesh\\.conda\\envs\\project\\lib\\site-packages (from spacy<2.4.0,>=2.3.0->en_core_web_sm==2.3.1) (1.1.3)\n",
      "Requirement already satisfied: numpy>=1.15.0 in c:\\users\\ningesh\\.conda\\envs\\project\\lib\\site-packages (from spacy<2.4.0,>=2.3.0->en_core_web_sm==2.3.1) (1.19.0)\n",
      "Requirement already satisfied: setuptools in c:\\users\\ningesh\\.conda\\envs\\project\\lib\\site-packages (from spacy<2.4.0,>=2.3.0->en_core_web_sm==2.3.1) (47.3.1.post20200622)\n",
      "Requirement already satisfied: importlib-metadata>=0.20; python_version < \"3.8\" in c:\\users\\ningesh\\.conda\\envs\\project\\lib\\site-packages (from catalogue<1.1.0,>=0.0.7->spacy<2.4.0,>=2.3.0->en_core_web_sm==2.3.1) (1.6.1)\n",
      "Requirement already satisfied: urllib3!=1.25.0,!=1.25.1,<1.26,>=1.21.1 in c:\\users\\ningesh\\.conda\\envs\\project\\lib\\site-packages (from requests<3.0.0,>=2.13.0->spacy<2.4.0,>=2.3.0->en_core_web_sm==2.3.1) (1.25.9)\n",
      "Requirement already satisfied: certifi>=2017.4.17 in c:\\users\\ningesh\\.conda\\envs\\project\\lib\\site-packages (from requests<3.0.0,>=2.13.0->spacy<2.4.0,>=2.3.0->en_core_web_sm==2.3.1) (2020.6.20)\n",
      "Requirement already satisfied: idna<3,>=2.5 in c:\\users\\ningesh\\.conda\\envs\\project\\lib\\site-packages (from requests<3.0.0,>=2.13.0->spacy<2.4.0,>=2.3.0->en_core_web_sm==2.3.1) (2.9)\n",
      "Requirement already satisfied: chardet<4,>=3.0.2 in c:\\users\\ningesh\\.conda\\envs\\project\\lib\\site-packages (from requests<3.0.0,>=2.13.0->spacy<2.4.0,>=2.3.0->en_core_web_sm==2.3.1) (3.0.4)\n",
      "Requirement already satisfied: zipp>=0.5 in c:\\users\\ningesh\\.conda\\envs\\project\\lib\\site-packages (from importlib-metadata>=0.20; python_version < \"3.8\"->catalogue<1.1.0,>=0.0.7->spacy<2.4.0,>=2.3.0->en_core_web_sm==2.3.1) (3.1.0)\n",
      "[+] Download and installation successful\n",
      "You can now load the model via spacy.load('en_core_web_sm')\n"
     ]
    },
    {
     "name": "stderr",
     "output_type": "stream",
     "text": [
      "C:\\Users\\ningesh\\.conda\\envs\\project\\lib\\runpy.py:125: RuntimeWarning: 'nltk.downloader' found in sys.modules after import of package 'nltk', but prior to execution of 'nltk.downloader'; this may result in unpredictable behaviour\n",
      "  warn(RuntimeWarning(msg))\n",
      "[nltk_data] Downloading package words to\n",
      "[nltk_data]     C:\\Users\\ningesh\\AppData\\Roaming\\nltk_data...\n",
      "[nltk_data]   Package words is already up-to-date!\n"
     ]
    },
    {
     "name": "stdout",
     "output_type": "stream",
     "text": [
      "Collecting pyresparser\n",
      "  Downloading pyresparser-1.0.6-py3-none-any.whl (4.2 MB)\n",
      "Requirement already satisfied: urllib3>=1.25.3 in c:\\users\\ningesh\\.conda\\envs\\project\\lib\\site-packages (from pyresparser) (1.25.9)\n",
      "Requirement already satisfied: six>=1.12.0 in c:\\users\\ningesh\\.conda\\envs\\project\\lib\\site-packages (from pyresparser) (1.15.0)\n",
      "Requirement already satisfied: pdfminer.six>=20181108 in c:\\users\\ningesh\\.conda\\envs\\project\\lib\\site-packages (from pyresparser) (20200726)\n",
      "Requirement already satisfied: pandas>=0.24.2 in c:\\users\\ningesh\\.conda\\envs\\project\\lib\\site-packages (from pyresparser) (1.0.5)\n",
      "Requirement already satisfied: numpy>=1.16.4 in c:\\users\\ningesh\\.conda\\envs\\project\\lib\\site-packages (from pyresparser) (1.19.0)\n",
      "Requirement already satisfied: jsonschema>=3.0.1 in c:\\users\\ningesh\\.conda\\envs\\project\\lib\\site-packages (from pyresparser) (3.2.0)\n",
      "Requirement already satisfied: thinc>=7.0.4 in c:\\users\\ningesh\\.conda\\envs\\project\\lib\\site-packages (from pyresparser) (7.4.1)\n",
      "Requirement already satisfied: wasabi>=0.2.2 in c:\\users\\ningesh\\.conda\\envs\\project\\lib\\site-packages (from pyresparser) (0.7.1)\n",
      "Requirement already satisfied: requests>=2.22.0 in c:\\users\\ningesh\\.conda\\envs\\project\\lib\\site-packages (from pyresparser) (2.24.0)\n",
      "Requirement already satisfied: sortedcontainers>=2.1.0 in c:\\users\\ningesh\\.conda\\envs\\project\\lib\\site-packages (from pyresparser) (2.2.2)\n",
      "Requirement already satisfied: preshed>=2.0.1 in c:\\users\\ningesh\\.conda\\envs\\project\\lib\\site-packages (from pyresparser) (3.0.2)\n",
      "Requirement already satisfied: attrs>=19.1.0 in c:\\users\\ningesh\\.conda\\envs\\project\\lib\\site-packages (from pyresparser) (19.3.0)\n",
      "Collecting pycryptodome>=3.8.2\n",
      "  Downloading pycryptodome-3.9.8-cp37-cp37m-win_amd64.whl (14.1 MB)\n",
      "Requirement already satisfied: srsly>=0.0.7 in c:\\users\\ningesh\\.conda\\envs\\project\\lib\\site-packages (from pyresparser) (1.0.2)\n",
      "Requirement already satisfied: nltk>=3.4.3 in c:\\users\\ningesh\\.conda\\envs\\project\\lib\\site-packages (from pyresparser) (3.5)\n",
      "Requirement already satisfied: idna>=2.8 in c:\\users\\ningesh\\.conda\\envs\\project\\lib\\site-packages (from pyresparser) (2.9)\n",
      "Requirement already satisfied: pyrsistent>=0.15.2 in c:\\users\\ningesh\\.conda\\envs\\project\\lib\\site-packages (from pyresparser) (0.16.0)\n",
      "Requirement already satisfied: cymem>=2.0.2 in c:\\users\\ningesh\\.conda\\envs\\project\\lib\\site-packages (from pyresparser) (2.0.3)\n",
      "Requirement already satisfied: tqdm>=4.32.2 in c:\\users\\ningesh\\.conda\\envs\\project\\lib\\site-packages (from pyresparser) (4.48.0)\n",
      "Requirement already satisfied: spacy>=2.1.4 in c:\\users\\ningesh\\.conda\\envs\\project\\lib\\site-packages (from pyresparser) (2.3.2)\n",
      "Collecting docx2txt>=0.7\n",
      "  Downloading docx2txt-0.8.tar.gz (2.8 kB)\n",
      "Requirement already satisfied: certifi>=2019.6.16 in c:\\users\\ningesh\\.conda\\envs\\project\\lib\\site-packages (from pyresparser) (2020.6.20)\n",
      "Requirement already satisfied: pytz>=2019.1 in c:\\users\\ningesh\\.conda\\envs\\project\\lib\\site-packages (from pyresparser) (2020.1)\n",
      "Requirement already satisfied: chardet>=3.0.4 in c:\\users\\ningesh\\.conda\\envs\\project\\lib\\site-packages (from pyresparser) (3.0.4)\n",
      "Requirement already satisfied: blis>=0.2.4 in c:\\users\\ningesh\\.conda\\envs\\project\\lib\\site-packages (from pyresparser) (0.4.1)\n",
      "Requirement already satisfied: python-dateutil>=2.8.0 in c:\\users\\ningesh\\.conda\\envs\\project\\lib\\site-packages (from pyresparser) (2.8.1)\n",
      "Requirement already satisfied: cryptography in c:\\users\\ningesh\\.conda\\envs\\project\\lib\\site-packages (from pdfminer.six>=20181108->pyresparser) (2.9.2)\n",
      "Requirement already satisfied: setuptools in c:\\users\\ningesh\\.conda\\envs\\project\\lib\\site-packages (from jsonschema>=3.0.1->pyresparser) (47.3.1.post20200622)\n",
      "Requirement already satisfied: importlib-metadata; python_version < \"3.8\" in c:\\users\\ningesh\\.conda\\envs\\project\\lib\\site-packages (from jsonschema>=3.0.1->pyresparser) (1.6.1)\n",
      "Requirement already satisfied: plac<1.2.0,>=0.9.6 in c:\\users\\ningesh\\.conda\\envs\\project\\lib\\site-packages (from thinc>=7.0.4->pyresparser) (1.1.3)\n",
      "Requirement already satisfied: catalogue<1.1.0,>=0.0.7 in c:\\users\\ningesh\\.conda\\envs\\project\\lib\\site-packages (from thinc>=7.0.4->pyresparser) (1.0.0)\n",
      "Requirement already satisfied: murmurhash<1.1.0,>=0.28.0 in c:\\users\\ningesh\\.conda\\envs\\project\\lib\\site-packages (from thinc>=7.0.4->pyresparser) (1.0.2)\n",
      "Requirement already satisfied: joblib in c:\\users\\ningesh\\.conda\\envs\\project\\lib\\site-packages (from nltk>=3.4.3->pyresparser) (0.15.1)\n",
      "Requirement already satisfied: regex in c:\\users\\ningesh\\.conda\\envs\\project\\lib\\site-packages (from nltk>=3.4.3->pyresparser) (2020.7.14)\n",
      "Requirement already satisfied: click in c:\\users\\ningesh\\.conda\\envs\\project\\lib\\site-packages (from nltk>=3.4.3->pyresparser) (7.1.2)\n",
      "Requirement already satisfied: cffi!=1.11.3,>=1.8 in c:\\users\\ningesh\\.conda\\envs\\project\\lib\\site-packages (from cryptography->pdfminer.six>=20181108->pyresparser) (1.14.0)\n",
      "Requirement already satisfied: zipp>=0.5 in c:\\users\\ningesh\\.conda\\envs\\project\\lib\\site-packages (from importlib-metadata; python_version < \"3.8\"->jsonschema>=3.0.1->pyresparser) (3.1.0)\n",
      "Requirement already satisfied: pycparser in c:\\users\\ningesh\\.conda\\envs\\project\\lib\\site-packages (from cffi!=1.11.3,>=1.8->cryptography->pdfminer.six>=20181108->pyresparser) (2.20)\n",
      "Building wheels for collected packages: docx2txt\n",
      "  Building wheel for docx2txt (setup.py): started\n",
      "  Building wheel for docx2txt (setup.py): finished with status 'done'\n",
      "  Created wheel for docx2txt: filename=docx2txt-0.8-py3-none-any.whl size=3969 sha256=4747ede7d264f2450e2666f3a064b26373162c3c9d3790fea473b2cf830cc2da\n",
      "  Stored in directory: c:\\users\\ningesh\\appdata\\local\\pip\\cache\\wheels\\b7\\20\\b2\\473e3aea9a0c0d3e7b2f7bd81d06d0794fec12752733d1f3a8\n",
      "Successfully built docx2txt\n",
      "Installing collected packages: pycryptodome, docx2txt, pyresparser\n",
      "Successfully installed docx2txt-0.8 pycryptodome-3.9.8 pyresparser-1.0.6\n"
     ]
    }
   ],
   "source": [
    "!python -m spacy download en_core_web_sm\n",
    "!python -m nltk.downloader words\n",
    "!pip install pyresparser"
   ]
  },
  {
   "cell_type": "code",
   "execution_count": 31,
   "metadata": {},
   "outputs": [
    {
     "name": "stdout",
     "output_type": "stream",
     "text": [
      "{'name': 'Ningeshkumar Kharatmol', 'email': 'ningesh1406@gmail.com', 'mobile_number': '8655221446', 'skills': ['Agile', 'Android', 'C', 'Technical', 'Architecture', 'Oracle', 'Engineering', 'Sdlc', 'Opencv', 'Java', 'Soap', 'Html', 'Database', 'Sql'], 'college_name': None, 'degree': ['B.E.', 'S.E.', 'F.E.'], 'designation': ['Programmer Analyst'], 'experience': ['5 Year(s),0 Month(s)', 'Resume', 'Resume'], 'company_names': ['HDFC Securities Ltd.', 'TCS Experience'], 'no_of_pages': 3, 'total_experience': 0.0}\n"
     ]
    }
   ],
   "source": [
    "from pyresparser import ResumeParser\n",
    "filename='ningesh.pdf'\n",
    "listofcontent=['pdf','docx']\n",
    "splitfilename=filename.split(\".\")\n",
    "if splitfilename[1] in listofcontent:\n",
    "    data = ResumeParser('ningesh.pdf').get_extracted_data()\n",
    "    print(data)\n",
    "else:\n",
    "    print('Not able to scan data please provide pdf format')\n",
    "\n"
   ]
  },
  {
   "cell_type": "code",
   "execution_count": 35,
   "metadata": {},
   "outputs": [
    {
     "name": "stdout",
     "output_type": "stream",
     "text": [
      "['Agile', 'Android', 'C', 'Technical', 'Architecture', 'Oracle', 'Engineering', 'Sdlc', 'Opencv', 'Java', 'Soap', 'Html', 'Database', 'Sql']\n",
      "{'Job': 'Data Visualization Expert'}\n"
     ]
    }
   ],
   "source": [
    "skillset=data['skills']\n",
    "print(skillset)\n",
    "dataop=''\n",
    "for ik in skillset:\n",
    "    dataop=dataop+ik+\" \"\n",
    "\n",
    "processed_text = first_go_model.prediction(dataop)\n",
    "result = {'Job type suited for this ': processed_text}\n",
    "\n",
    "print(result)\n"
   ]
  },
  {
   "cell_type": "code",
   "execution_count": 11,
   "metadata": {},
   "outputs": [
    {
     "name": "stdout",
     "output_type": "stream",
     "text": [
      "Requirement already satisfied: pdfminer.six in c:\\users\\ningesh\\.conda\\envs\\project\\lib\\site-packages (20200726)\n",
      "Requirement already satisfied: sortedcontainers in c:\\users\\ningesh\\.conda\\envs\\project\\lib\\site-packages (from pdfminer.six) (2.2.2)\n",
      "Requirement already satisfied: chardet; python_version > \"3.0\" in c:\\users\\ningesh\\.conda\\envs\\project\\lib\\site-packages (from pdfminer.six) (3.0.4)\n",
      "Requirement already satisfied: cryptography in c:\\users\\ningesh\\.conda\\envs\\project\\lib\\site-packages (from pdfminer.six) (2.9.2)\n",
      "Requirement already satisfied: cffi!=1.11.3,>=1.8 in c:\\users\\ningesh\\.conda\\envs\\project\\lib\\site-packages (from cryptography->pdfminer.six) (1.14.0)\n",
      "Requirement already satisfied: six>=1.4.1 in c:\\users\\ningesh\\.conda\\envs\\project\\lib\\site-packages (from cryptography->pdfminer.six) (1.15.0)\n",
      "Requirement already satisfied: pycparser in c:\\users\\ningesh\\.conda\\envs\\project\\lib\\site-packages (from cffi!=1.11.3,>=1.8->cryptography->pdfminer.six) (2.20)\n",
      "Requirement already satisfied: doc2text in c:\\users\\ningesh\\.conda\\envs\\project\\lib\\site-packages (0.2.4)\n",
      "Requirement already satisfied: scipy in c:\\users\\ningesh\\.conda\\envs\\project\\lib\\site-packages (from doc2text) (1.4.1)\n",
      "Requirement already satisfied: pytesseract in c:\\users\\ningesh\\.conda\\envs\\project\\lib\\site-packages (from doc2text) (0.3.4)\n",
      "Requirement already satisfied: numpy in c:\\users\\ningesh\\.conda\\envs\\project\\lib\\site-packages (from doc2text) (1.19.0)\n",
      "Requirement already satisfied: PyPDF2 in c:\\users\\ningesh\\.conda\\envs\\project\\lib\\site-packages (from doc2text) (1.26.0)\n",
      "Requirement already satisfied: mime in c:\\users\\ningesh\\.conda\\envs\\project\\lib\\site-packages (from doc2text) (0.1.0)\n",
      "Requirement already satisfied: Pillow in c:\\users\\ningesh\\.conda\\envs\\project\\lib\\site-packages (from doc2text) (7.1.2)\n",
      "Requirement already satisfied: future in c:\\users\\ningesh\\.conda\\envs\\project\\lib\\site-packages (from mime->doc2text) (0.18.2)\n"
     ]
    },
    {
     "name": "stderr",
     "output_type": "stream",
     "text": [
      "ERROR: Could not find a version that satisfies the requirement PythonMagick (from versions: none)\n",
      "ERROR: No matching distribution found for PythonMagick\n"
     ]
    }
   ],
   "source": [
    "!pip install pdfminer.six \n",
    "!pip install doc2text\n",
    "!pip install PythonMagick"
   ]
  },
  {
   "cell_type": "code",
   "execution_count": null,
   "metadata": {},
   "outputs": [],
   "source": [
    "\n"
   ]
  },
  {
   "cell_type": "code",
   "execution_count": null,
   "metadata": {},
   "outputs": [],
   "source": []
  }
 ],
 "metadata": {
  "kernelspec": {
   "display_name": "Python 3",
   "language": "python",
   "name": "python3"
  },
  "language_info": {
   "codemirror_mode": {
    "name": "ipython",
    "version": 3
   },
   "file_extension": ".py",
   "mimetype": "text/x-python",
   "name": "python",
   "nbconvert_exporter": "python",
   "pygments_lexer": "ipython3",
   "version": "3.7.7"
  }
 },
 "nbformat": 4,
 "nbformat_minor": 4
}
